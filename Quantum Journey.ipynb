{
 "cells": [
  {
   "cell_type": "markdown",
   "id": "28c7374e-366f-40a5-99b3-40ed00b59b29",
   "metadata": {},
   "source": [
    "# Quantum Journey"
   ]
  },
  {
   "cell_type": "markdown",
   "id": "b4bca109-9c25-4847-92a4-15fc1e4dd856",
   "metadata": {},
   "source": [
    "## What is a quantum?\n",
    "A quantum (plural: quanta) is the smallest discrete unit of a phenomenon. For example, a quantum of light is a photon, and a quantum of electricity is an electron. Quantum comes from Latin, meaning \"an amount\" or \"how much?\" If something is quantifiable, then it can be measured."
   ]
  },
  {
   "cell_type": "markdown",
   "id": "c3109f2e-70e4-4a26-9d2e-160992d891f2",
   "metadata": {},
   "source": [
    "## What is quantum in computing?\n",
    "Quantum computing uses the nature of subatomic particles to perform calculations instead of using electrical signals as in classical computing. Quantum computers use qubits instead of binary bits. By programming the initial conditions of the qubit, quantum computing can solve a problem when the superposition state collapses. The forefront of quantum computer research is in linking greater numbers of qubits together to be able to solve larger and more complex problems.\n",
    "\n",
    "![Alt text](https://cdn.ttgtmedia.com/rms/onlineimages/classical_computing_vs_quantum_computing-f.png) _Quantum computing uses the nature of subatomic particles to execute calculations as an alternative to the electrical signals used in classical computing._\n",
    "\n",
    "Quantum computers can perform certain calculations much faster than classical computers. To find an answer to a problem, classical computers need to go through each option one at a time. It can take a long time to go through all the options for some types of problems. Quantum computers do not need to try each option; instead, they resolve the answer almost instantly.\n",
    "\n",
    "Some problems that quantum computers can solve quicker than classical computers are factoring for prime numbers and the traveling salesman problem. Once quantum computers demonstrate the ability to solve these problems faster than classical computers, quantum supremacy will be achieved.\n",
    "\n",
    "The traveling salesman problem (TSP) is an algorithmic problem tasked with finding the shortest route between a set of points and locations that must be visited. In the problem statement, the points are the cities a salesperson might visit. The salesman‘s goal is to keep both the travel costs and the distance traveled as low as possible. Here you can read more for it at [a link](https://github.com/GalkaKG/Quantum-Journey/blob/main/classical_computing_vs_quantum_computing.png?raw=true) ."
   ]
  },
  {
   "cell_type": "markdown",
   "id": "7385673a-e951-4c09-947b-08e988dd52d8",
   "metadata": {},
   "source": [
    "### And what is quantum supremacy?\n",
    "Quantum supremacy is the experimental demonstration of a quantum computer's dominance and advantage over classical computers by performing calculations previously impossible at unmatched speeds. To confirm that quantum supremacy has been achieved, computer scientists must be able to show that a classical computer could never have solved the problem while also proving that the quantum computer can perform the calculation quickly.\n",
    "\n",
    "Computer scientists believe quantum supremacy will lead to the cracking of Shor's algorithm - a currently impossible calculation that is the basis of most modern cryptography, as well as offer advantages in drug development, weather forecasts, stock trades and material designs.\n",
    "\n",
    "Quantum computing is consistently evolving. Quantum computers have not yet reached a point where they can show their supremacy over classical computers. This is mostly due to the huge amount of quantum bits, or qubits, required to perform meaningful operations on quantum computers. As the amount of necessary logic gates and number of qubits increases, so does the error rate. If the error rate gets too high, the quantum computer loses any advantage it had over the classical computer.\n",
    "\n",
    "To successfully perform useful calculations -- such as determining the chemical properties of a substance -- a few million qubits would be necessary. Currently, the largest quantum computer design is IBM's quantum computer, named Osprey, which features 433 qubits."
   ]
  },
  {
   "cell_type": "markdown",
   "id": "6907f542-7c89-48de-9bd8-238aa728fb70",
   "metadata": {},
   "source": [
    "### The prime factorization \n",
    "on another side\n",
    "is an important function for the modern cryptography systems that secure digital communication. Experts currently expect that quantum computers will render existing cryptographic systems insecure and obsolete.\n",
    "\n",
    "![Alt text](https://github.com/GalkaKG/Quantum-Journey/blob/main/classical_cryptography_vs_quantum_cryptography.png?raw=true) _The differences between classical cryptography and quantum cryptography._\n",
    "\n",
    "Efforts to develop post-quantum cryptography are underway to create algorithms that are resistant to quantum attacks, but can still be used by classical computers. Eventually, fully quantum cryptography will be available for quantum computers.\n",
    "\n"
   ]
  }
 ],
 "metadata": {
  "kernelspec": {
   "display_name": "Python 3 (ipykernel)",
   "language": "python",
   "name": "python3"
  },
  "language_info": {
   "codemirror_mode": {
    "name": "ipython",
    "version": 3
   },
   "file_extension": ".py",
   "mimetype": "text/x-python",
   "name": "python",
   "nbconvert_exporter": "python",
   "pygments_lexer": "ipython3",
   "version": "3.9.12"
  }
 },
 "nbformat": 4,
 "nbformat_minor": 5
}
