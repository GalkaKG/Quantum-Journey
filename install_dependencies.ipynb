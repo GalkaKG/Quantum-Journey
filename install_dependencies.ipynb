{
 "cells": [
  {
   "cell_type": "markdown",
   "id": "9727f263-5fca-441f-9701-9098165dd84e",
   "metadata": {},
   "source": [
    "## Install dependencies for the project:"
   ]
  },
  {
   "cell_type": "code",
   "execution_count": null,
   "id": "e75399a1-3227-4e0e-b2a2-069bf5a3da77",
   "metadata": {},
   "outputs": [],
   "source": [
    "!pip install projectq"
   ]
  },
  {
   "cell_type": "code",
   "execution_count": null,
   "id": "b124f1e7-509e-4654-b419-48f00542cf0b",
   "metadata": {},
   "outputs": [],
   "source": [
    "!pip install qiskit"
   ]
  },
  {
   "cell_type": "code",
   "execution_count": null,
   "id": "468063d2-c530-4856-a385-17dc292a209b",
   "metadata": {},
   "outputs": [],
   "source": [
    "!pip install qiskit-aer"
   ]
  }
 ],
 "metadata": {
  "kernelspec": {
   "display_name": "Python 3 (ipykernel)",
   "language": "python",
   "name": "python3"
  },
  "language_info": {
   "codemirror_mode": {
    "name": "ipython",
    "version": 3
   },
   "file_extension": ".py",
   "mimetype": "text/x-python",
   "name": "python",
   "nbconvert_exporter": "python",
   "pygments_lexer": "ipython3",
   "version": "3.9.12"
  }
 },
 "nbformat": 4,
 "nbformat_minor": 5
}
